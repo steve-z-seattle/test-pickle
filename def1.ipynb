{
 "cells": [
  {
   "cell_type": "code",
   "execution_count": 1,
   "id": "2439e262-5c9c-4668-ac3e-637552729a80",
   "metadata": {},
   "outputs": [],
   "source": [
    "import pickle"
   ]
  },
  {
   "cell_type": "code",
   "execution_count": 2,
   "id": "e118ddd2-36ff-4e3d-83d6-02f12b410e2c",
   "metadata": {},
   "outputs": [],
   "source": [
    "class test_pickle:\n",
    "    def __init__(self):\n",
    "        self.x = 10\n",
    "        self.y = 100\n",
    "    def fit(self):\n",
    "        pass"
   ]
  },
  {
   "cell_type": "code",
   "execution_count": 3,
   "id": "68a3f49d-684b-4b9c-8c2f-3976bf31fe36",
   "metadata": {},
   "outputs": [],
   "source": [
    "tp1 = test_pickle()"
   ]
  },
  {
   "cell_type": "code",
   "execution_count": 4,
   "id": "adaabe40-b9de-4e44-89ef-edd69408d4fe",
   "metadata": {},
   "outputs": [
    {
     "data": {
      "text/plain": [
       "{'x': 10, 'y': 100}"
      ]
     },
     "execution_count": 4,
     "metadata": {},
     "output_type": "execute_result"
    }
   ],
   "source": [
    "tp1.__dict__"
   ]
  },
  {
   "cell_type": "code",
   "execution_count": 5,
   "id": "c2b8ce06-1b2a-4d4e-9e8a-68db09a7096d",
   "metadata": {},
   "outputs": [
    {
     "data": {
      "text/plain": [
       "10"
      ]
     },
     "execution_count": 5,
     "metadata": {},
     "output_type": "execute_result"
    }
   ],
   "source": [
    "tp1.x"
   ]
  },
  {
   "cell_type": "code",
   "execution_count": 7,
   "id": "32ff4356-6794-43dc-9e4c-151edf4d2a66",
   "metadata": {},
   "outputs": [],
   "source": [
    "with open('a.pkl', 'wb') as f:\n",
    "    pickle.dump(tp1, f)"
   ]
  },
  {
   "cell_type": "code",
   "execution_count": 8,
   "id": "00b1051e-e868-4cc4-9e84-f6f5f26e9871",
   "metadata": {},
   "outputs": [],
   "source": [
    "with open('a.pkl', 'rb') as f:\n",
    "    tp2 = pickle.load(f)"
   ]
  },
  {
   "cell_type": "code",
   "execution_count": 9,
   "id": "bea75e4f-94e2-4042-a866-b2f4e54579af",
   "metadata": {},
   "outputs": [
    {
     "data": {
      "text/plain": [
       "{'x': 10, 'y': 100}"
      ]
     },
     "execution_count": 9,
     "metadata": {},
     "output_type": "execute_result"
    }
   ],
   "source": [
    "tp2.__dict__"
   ]
  },
  {
   "cell_type": "code",
   "execution_count": null,
   "id": "7ac42434-83e4-4889-8e84-310078199d0c",
   "metadata": {},
   "outputs": [],
   "source": []
  },
  {
   "cell_type": "code",
   "execution_count": null,
   "id": "1fb30724-4ff0-43ad-8897-08293acac33c",
   "metadata": {},
   "outputs": [],
   "source": []
  }
 ],
 "metadata": {
  "kernelspec": {
   "display_name": "Python 3",
   "language": "python",
   "name": "python3"
  },
  "language_info": {
   "codemirror_mode": {
    "name": "ipython",
    "version": 3
   },
   "file_extension": ".py",
   "mimetype": "text/x-python",
   "name": "python",
   "nbconvert_exporter": "python",
   "pygments_lexer": "ipython3",
   "version": "3.7.2"
  }
 },
 "nbformat": 4,
 "nbformat_minor": 5
}
