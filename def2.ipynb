{
 "cells": [
  {
   "cell_type": "code",
   "execution_count": 19,
   "id": "2439e262-5c9c-4668-ac3e-637552729a80",
   "metadata": {},
   "outputs": [],
   "source": [
    "import pickle\n",
    "import importlib"
   ]
  },
  {
   "cell_type": "code",
   "execution_count": 20,
   "id": "4e35f09b-a65a-4dd2-a9e6-4aa45e5a82bf",
   "metadata": {},
   "outputs": [],
   "source": [
    "from myclass import test_pickle"
   ]
  },
  {
   "cell_type": "code",
   "execution_count": 21,
   "id": "f1d596fe-4fb4-40c3-b2df-809c37bff365",
   "metadata": {},
   "outputs": [
    {
     "data": {
      "text/plain": [
       "<module 'myclass' from '/Users/shaojun/zhao/tmp/test-pickle/myclass.py'>"
      ]
     },
     "execution_count": 21,
     "metadata": {},
     "output_type": "execute_result"
    }
   ],
   "source": [
    "importlib.reload(myclass)"
   ]
  },
  {
   "cell_type": "code",
   "execution_count": 22,
   "id": "00b1051e-e868-4cc4-9e84-f6f5f26e9871",
   "metadata": {},
   "outputs": [],
   "source": [
    "with open('a.pkl', 'rb') as f:\n",
    "    tp2 = pickle.load(f)"
   ]
  },
  {
   "cell_type": "code",
   "execution_count": null,
   "id": "d6990da0-f487-4816-ae85-4e7b155913f8",
   "metadata": {},
   "outputs": [],
   "source": []
  },
  {
   "cell_type": "code",
   "execution_count": 23,
   "id": "bea75e4f-94e2-4042-a866-b2f4e54579af",
   "metadata": {},
   "outputs": [
    {
     "data": {
      "text/plain": [
       "{'x': 10, 'y': 100}"
      ]
     },
     "execution_count": 23,
     "metadata": {},
     "output_type": "execute_result"
    }
   ],
   "source": [
    "tp2.__dict__"
   ]
  },
  {
   "cell_type": "code",
   "execution_count": null,
   "id": "e51f41cd-ff05-45e3-98c5-1ea448b78017",
   "metadata": {},
   "outputs": [],
   "source": []
  }
 ],
 "metadata": {
  "kernelspec": {
   "display_name": "Python 3",
   "language": "python",
   "name": "python3"
  },
  "language_info": {
   "codemirror_mode": {
    "name": "ipython",
    "version": 3
   },
   "file_extension": ".py",
   "mimetype": "text/x-python",
   "name": "python",
   "nbconvert_exporter": "python",
   "pygments_lexer": "ipython3",
   "version": "3.7.2"
  }
 },
 "nbformat": 4,
 "nbformat_minor": 5
}
